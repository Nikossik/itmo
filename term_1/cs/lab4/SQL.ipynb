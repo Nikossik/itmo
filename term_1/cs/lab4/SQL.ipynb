{
 "cells": [
  {
   "cell_type": "markdown",
   "id": "6767f0b5",
   "metadata": {},
   "source": [
    "# SQLite3"
   ]
  },
  {
   "cell_type": "markdown",
   "id": "d71fde0f",
   "metadata": {},
   "source": [
    "## 1 Подключение к базам данных"
   ]
  },
  {
   "cell_type": "code",
   "execution_count": 167,
   "id": "0466b7f2",
   "metadata": {},
   "outputs": [
    {
     "name": "stdout",
     "output_type": "stream",
     "text": [
      "Connection to SQLite DB successful\n"
     ]
    }
   ],
   "source": [
    "import sqlite3\n",
    "from sqlite3 import Error\n",
    "\n",
    "def create_connection(path):\n",
    "    connection = None\n",
    "    try:\n",
    "        connection = sqlite3.connect(path)\n",
    "        print(\"Connection to SQLite DB successful\")\n",
    "    except Error as e:\n",
    "        print(f\"The error '{e}' occurred\")\n",
    "\n",
    "    return connection\n",
    "\n",
    "connection = create_connection(\"/Users/nikossik/Coding/sql_db/db_library.sqlite\")"
   ]
  },
  {
   "cell_type": "markdown",
   "id": "4d9584a0",
   "metadata": {},
   "source": [
    "## 2 Создание таблиц"
   ]
  },
  {
   "cell_type": "code",
   "execution_count": 168,
   "id": "4880fd0c",
   "metadata": {},
   "outputs": [],
   "source": [
    "def execute_query(connection, query):\n",
    "    cursor = connection.cursor()\n",
    "    try:\n",
    "        cursor.execute(query)\n",
    "        connection.commit()\n",
    "        print(\"Query executed successfully\")\n",
    "    except Error as e:\n",
    "        print(f\"The error '{e}' occurred\")"
   ]
  },
  {
   "cell_type": "code",
   "execution_count": 169,
   "id": "265331b7",
   "metadata": {},
   "outputs": [
    {
     "name": "stdout",
     "output_type": "stream",
     "text": [
      "Query executed successfully\n"
     ]
    }
   ],
   "source": [
    "create_authors_table = \"\"\"\n",
    "CREATE TABLE Authors (\n",
    "        author_id INTEGER PRIMARY KEY,\n",
    "        first_name TEXT NOT NULL,\n",
    "        last_name TEXT NOT NULL,\n",
    "        birth_date DATE NOT NULL\n",
    ");\n",
    "\"\"\"\n",
    "execute_query(connection, create_authors_table)  "
   ]
  },
  {
   "cell_type": "code",
   "execution_count": 170,
   "id": "bf81c3e7",
   "metadata": {},
   "outputs": [
    {
     "name": "stdout",
     "output_type": "stream",
     "text": [
      "Query executed successfully\n"
     ]
    }
   ],
   "source": [
    "create_books_table = \"\"\"\n",
    "CREATE TABLE Books (\n",
    "        book_id INTEGER PRIMARY KEY,\n",
    "        title TEXT NOT NULL,\n",
    "        author_id INTEGER NOT NULL,\n",
    "        publication_year INTEGER NOT NULL,\n",
    "        FOREIGN KEY (author_id) REFERENCES Authors (author_id)\n",
    ");\n",
    "\"\"\"\n",
    "execute_query(connection, create_books_table)"
   ]
  },
  {
   "cell_type": "code",
   "execution_count": 171,
   "id": "8fbdf534",
   "metadata": {},
   "outputs": [
    {
     "name": "stdout",
     "output_type": "stream",
     "text": [
      "Query executed successfully\n"
     ]
    }
   ],
   "source": [
    "create_readers_table = \"\"\"\n",
    "    CREATE TABLE Readers (\n",
    "        reader_id INTEGER PRIMARY KEY,\n",
    "        first_name TEXT NOT NULL,\n",
    "        last_name TEXT NOT NULL,\n",
    "        registration_date DATE NOT NULL\n",
    ");\n",
    "\"\"\"\n",
    "execute_query(connection, create_readers_table)  "
   ]
  },
  {
   "cell_type": "code",
   "execution_count": 172,
   "id": "1f5b1e23",
   "metadata": {},
   "outputs": [
    {
     "name": "stdout",
     "output_type": "stream",
     "text": [
      "Query executed successfully\n"
     ]
    }
   ],
   "source": [
    "create_bookIssues_table = \"\"\"\n",
    "    CREATE TABLE BookIssues (\n",
    "        issue_id INTEGER PRIMARY KEY,\n",
    "        reader_id INTEGER NOT NULL,\n",
    "        book_id INTEGER NOT NULL,\n",
    "        issue_date DATE NOT NULL,\n",
    "        return_date DATE,\n",
    "        FOREIGN KEY (reader_id) REFERENCES Readers (reader_id),\n",
    "        FOREIGN KEY (book_id) REFERENCES Books (book_id)\n",
    "    )\n",
    "\"\"\"\n",
    "execute_query(connection, create_bookIssues_table)            "
   ]
  },
  {
   "cell_type": "markdown",
   "id": "ea6a75f0",
   "metadata": {},
   "source": [
    "## 3 вставка записей"
   ]
  },
  {
   "cell_type": "code",
   "execution_count": 173,
   "id": "673ba87e",
   "metadata": {},
   "outputs": [
    {
     "name": "stdout",
     "output_type": "stream",
     "text": [
      "Query executed successfully\n"
     ]
    }
   ],
   "source": [
    "create_authors = \"\"\"\n",
    "INSERT INTO\n",
    "   Authors (author_id, first_name, last_name, birth_date)\n",
    "VALUES\n",
    "    (1, \"Лев\", \"Толстой\", \"1828-09-09\"),\n",
    "    (2, \"Федор\", \"Достоевский\", \"1821-11-11\"),\n",
    "    (3, \"Антон\", \"Чехов\", \"1860-01-29\"),\n",
    "    (4, \"Александр\", \"Пушкин\", \"1799-06-06\"),\n",
    "    (5, \"Николай\", \"Гоголь\", \"1809-03-31\")\n",
    "\"\"\"\n",
    "\n",
    "execute_query(connection, create_authors)   "
   ]
  },
  {
   "cell_type": "code",
   "execution_count": 174,
   "id": "278aaf7e",
   "metadata": {},
   "outputs": [
    {
     "name": "stdout",
     "output_type": "stream",
     "text": [
      "Query executed successfully\n"
     ]
    }
   ],
   "source": [
    "create_books = \"\"\"\n",
    "INSERT INTO\n",
    "   Books (book_id, title, author_id, publication_year)\n",
    "VALUES\n",
    "    (1, \"Война и мир\", 1, 1869),\n",
    "    (2, \"Преступление и наказание\", 2, 1866),\n",
    "    (3, \"Чайка\", 3, 1896),\n",
    "    (4, \"Евгений Онегин\", 4, 1833),\n",
    "    (5, \"Мертвые души\", 5, 1842)\n",
    "\"\"\"\n",
    "\n",
    "execute_query(connection, create_books)  "
   ]
  },
  {
   "cell_type": "code",
   "execution_count": 175,
   "id": "5f103f08",
   "metadata": {},
   "outputs": [
    {
     "name": "stdout",
     "output_type": "stream",
     "text": [
      "Query executed successfully\n"
     ]
    }
   ],
   "source": [
    "create_readers = \"\"\"\n",
    "INSERT INTO\n",
    "  Readers (reader_id, first_name, last_name, registration_date)\n",
    "VALUES\n",
    "    (1, \"Иван\", \"Иванов\", \"2023-01-01\"),\n",
    "    (2, \"Елена\", \"Петрова\", \"2023-02-12\"),\n",
    "    (3, \"Сергей\", \"Сидоров\", \"2023-03-23\"),\n",
    "    (4, \"Мария\", \"Кузнецова\", \"2023-04-14\"),\n",
    "    (5, \"Дмитрий\", \"Смирнов\", \"2023-05-05\")\n",
    "\"\"\"\n",
    "execute_query(connection, create_readers)"
   ]
  },
  {
   "cell_type": "code",
   "execution_count": 176,
   "id": "db59a5d0",
   "metadata": {},
   "outputs": [
    {
     "name": "stdout",
     "output_type": "stream",
     "text": [
      "Query executed successfully\n"
     ]
    }
   ],
   "source": [
    "create_book_issues = \"\"\"\n",
    "INSERT INTO\n",
    "  BookIssues (issue_id, reader_id, book_id, issue_date, return_date)\n",
    "VALUES\n",
    "    (1, 1, 1, \"2023-06-01\", NULL),\n",
    "    (2, 2, 2, \"2023-06-02\", NULL),\n",
    "    (3, 3, 3, \"2023-06-03\", NULL),\n",
    "    (4, 4, 4, \"2023-06-04\", NULL),\n",
    "    (5, 5, 5, \"2023-06-05\", NULL)\n",
    "\"\"\"\n",
    "execute_query(connection, create_book_issues)  "
   ]
  },
  {
   "cell_type": "markdown",
   "id": "99c7cd00",
   "metadata": {},
   "source": [
    "## 4 добавление в каждую таблицу по одному примеру"
   ]
  },
  {
   "cell_type": "code",
   "execution_count": 177,
   "id": "b54ea987",
   "metadata": {},
   "outputs": [
    {
     "name": "stdout",
     "output_type": "stream",
     "text": [
      "Query executed successfully\n",
      "Query executed successfully\n",
      "Query executed successfully\n",
      "Query executed successfully\n"
     ]
    }
   ],
   "source": [
    "# Запросы\n",
    "add_author_query = \"\"\"\n",
    "INSERT INTO Authors (author_id, first_name, last_name, birth_date)\n",
    "VALUES (7, 'Иван', 'Бунин', '1870-10-22')\n",
    "\"\"\"\n",
    "\n",
    "add_book_query = \"\"\"\n",
    "INSERT INTO Books (book_id, title, author_id, publication_year)\n",
    "VALUES (7, 'Темные аллеи', 7, 1866)\n",
    "\"\"\"\n",
    "\n",
    "add_reader_query = \"\"\"\n",
    "INSERT INTO Readers (reader_id, first_name, last_name, registration_date)\n",
    "VALUES (7, 'Ольга', 'Королева', '2023-08-01')\n",
    "\"\"\"\n",
    "\n",
    "add_book_issue_query = \"\"\"\n",
    "INSERT INTO BookIssues (issue_id, reader_id, book_id, issue_date)\n",
    "VALUES (7, 7, 7, '2023-08-02')\n",
    "\"\"\"\n",
    "\n",
    "# Выполнение запросов\n",
    "execute_query(connection, add_author_query)\n",
    "execute_query(connection, add_book_query)\n",
    "execute_query(connection, add_reader_query)\n",
    "execute_query(connection, add_book_issue_query)"
   ]
  },
  {
   "cell_type": "markdown",
   "id": "307f2cf4",
   "metadata": {},
   "source": [
    "## 5 Извлечение данных из записей"
   ]
  },
  {
   "cell_type": "markdown",
   "id": "9ebeb898",
   "metadata": {},
   "source": [
    "### Выбрать все записи из таблиц"
   ]
  },
  {
   "cell_type": "code",
   "execution_count": 178,
   "id": "73d63662",
   "metadata": {},
   "outputs": [
    {
     "name": "stdout",
     "output_type": "stream",
     "text": [
      "(1, 'Лев', 'Толстой', '1828-09-09')\n",
      "(2, 'Федор', 'Достоевский', '1821-11-11')\n",
      "(3, 'Антон', 'Чехов', '1860-01-29')\n",
      "(4, 'Александр', 'Пушкин', '1799-06-06')\n",
      "(5, 'Николай', 'Гоголь', '1809-03-31')\n",
      "(7, 'Иван', 'Бунин', '1870-10-22')\n"
     ]
    }
   ],
   "source": [
    "select_from_authors = \"SELECT * FROM Authors\"\n",
    "all_authors = execute_read_query(connection, select_from_authors)\n",
    "\n",
    "for author in all_authors:\n",
    "    print(author)"
   ]
  },
  {
   "cell_type": "code",
   "execution_count": 179,
   "id": "74a6cdbb",
   "metadata": {},
   "outputs": [
    {
     "name": "stdout",
     "output_type": "stream",
     "text": [
      "(1, 'Война и мир', 1, 1869)\n",
      "(2, 'Преступление и наказание', 2, 1866)\n",
      "(3, 'Чайка', 3, 1896)\n",
      "(4, 'Евгений Онегин', 4, 1833)\n",
      "(5, 'Мертвые души', 5, 1842)\n",
      "(7, 'Темные аллеи', 7, 1866)\n"
     ]
    }
   ],
   "source": [
    "select_from_books = \"SELECT * FROM Books\"\n",
    "all_books = execute_read_query(connection, select_from_books)\n",
    "\n",
    "for book in all_books:\n",
    "    print(book)"
   ]
  },
  {
   "cell_type": "code",
   "execution_count": 180,
   "id": "d842fbb0",
   "metadata": {},
   "outputs": [
    {
     "name": "stdout",
     "output_type": "stream",
     "text": [
      "(1, 'Иван', 'Иванов', '2023-01-01')\n",
      "(2, 'Елена', 'Петрова', '2023-02-12')\n",
      "(3, 'Сергей', 'Сидоров', '2023-03-23')\n",
      "(4, 'Мария', 'Кузнецова', '2023-04-14')\n",
      "(5, 'Дмитрий', 'Смирнов', '2023-05-05')\n",
      "(7, 'Ольга', 'Королева', '2023-08-01')\n"
     ]
    }
   ],
   "source": [
    "select_from_readers = \"SELECT * FROM Readers\"\n",
    "all_readers = execute_read_query(connection, select_from_readers)\n",
    "\n",
    "for reader in all_readers:\n",
    "    print(reader)"
   ]
  },
  {
   "cell_type": "code",
   "execution_count": 181,
   "id": "0394bd4a",
   "metadata": {},
   "outputs": [
    {
     "name": "stdout",
     "output_type": "stream",
     "text": [
      "(1, 1, 1, '2023-06-01', None)\n",
      "(2, 2, 2, '2023-06-02', None)\n",
      "(3, 3, 3, '2023-06-03', None)\n",
      "(4, 4, 4, '2023-06-04', None)\n",
      "(5, 5, 5, '2023-06-05', None)\n",
      "(7, 7, 7, '2023-08-02', None)\n"
     ]
    }
   ],
   "source": [
    "select_from_book_issues = \"SELECT * FROM BookIssues\"\n",
    "all_book_issues = execute_read_query(connection, select_from_book_issues)\n",
    "\n",
    "for issue in all_book_issues:\n",
    "    print(issue)"
   ]
  },
  {
   "cell_type": "markdown",
   "id": "36c64e7f",
   "metadata": {},
   "source": [
    "### Запрос с использованием JOIN"
   ]
  },
  {
   "cell_type": "code",
   "execution_count": 182,
   "id": "dc6f9d9e",
   "metadata": {},
   "outputs": [
    {
     "name": "stdout",
     "output_type": "stream",
     "text": [
      "('Иван', 'Иванов', 'Война и мир')\n",
      "('Елена', 'Петрова', 'Преступление и наказание')\n",
      "('Сергей', 'Сидоров', 'Чайка')\n",
      "('Мария', 'Кузнецова', 'Евгений Онегин')\n",
      "('Дмитрий', 'Смирнов', 'Мертвые души')\n",
      "('Ольга', 'Королева', 'Темные аллеи')\n"
     ]
    }
   ],
   "source": [
    "# Список читателей и названия книг, которые они взяли:\n",
    "join_readers_and_books = \"\"\"\n",
    "SELECT Readers.first_name, Readers.last_name, Books.title\n",
    "FROM BookIssues\n",
    "JOIN Readers ON BookIssues.reader_id = Readers.reader_id\n",
    "JOIN Books ON BookIssues.book_id = Books.book_id\n",
    "\"\"\"\n",
    "join_query = execute_read_query(connection, join_readers_and_books)\n",
    "\n",
    "for example in join_query:\n",
    "    print(example)"
   ]
  },
  {
   "cell_type": "markdown",
   "id": "3310718e",
   "metadata": {},
   "source": [
    "### Запрос с использованием WHERE и GROUP BY"
   ]
  },
  {
   "cell_type": "code",
   "execution_count": 183,
   "id": "6dbfc7f7",
   "metadata": {},
   "outputs": [
    {
     "name": "stdout",
     "output_type": "stream",
     "text": [
      "(1, 'Война и мир', 1)\n",
      "(2, 'Преступление и наказание', 1)\n",
      "(3, 'Чайка', 1)\n",
      "(7, 'Темные аллеи', 1)\n"
     ]
    }
   ],
   "source": [
    "# Количество книг, опубликованных после 1860 года, по авторам\n",
    "group_by_books_and_authors = \"\"\"\n",
    "SELECT Books.author_id, title, COUNT(*) as number_of_books\n",
    "FROM Books\n",
    "WHERE publication_year > 1860\n",
    "GROUP BY Books.author_id\n",
    "\"\"\"\n",
    "group_by_query = execute_read_query(connection, group_by_books_and_authors)\n",
    "\n",
    "for example in group_by_query:\n",
    "    print(example)"
   ]
  },
  {
   "cell_type": "markdown",
   "id": "8efcec46",
   "metadata": {},
   "source": [
    "### Два запроса с вложенным SELECT"
   ]
  },
  {
   "cell_type": "code",
   "execution_count": 184,
   "id": "f90b8f45",
   "metadata": {},
   "outputs": [
    {
     "name": "stdout",
     "output_type": "stream",
     "text": [
      "(1, 'Война и мир', 1, 1869)\n"
     ]
    }
   ],
   "source": [
    "# Книги автора с фамилией \"Толстой\"\n",
    "select_1 = \"\"\"\n",
    "SELECT * FROM Books\n",
    "WHERE author_id IN (SELECT author_id FROM Authors WHERE last_name = 'Толстой')\n",
    "\"\"\"\n",
    "select_1_query = execute_read_query(connection, select_1)\n",
    "\n",
    "for example in select_1_query:\n",
    "    print(example)"
   ]
  },
  {
   "cell_type": "code",
   "execution_count": 185,
   "id": "23f88563",
   "metadata": {},
   "outputs": [
    {
     "name": "stdout",
     "output_type": "stream",
     "text": [
      "(1, 'Иван', 'Иванов', '2023-01-01')\n"
     ]
    }
   ],
   "source": [
    "# Читатели, которые взяли книгу с ID 1 (Война и мир)\n",
    "select_2 = \"\"\"\n",
    "SELECT * FROM Readers\n",
    "WHERE reader_id IN (SELECT reader_id FROM BookIssues WHERE book_id = 1)\n",
    "\"\"\"\n",
    "select_2_query = execute_read_query(connection, select_2)\n",
    "\n",
    "for example in select_2_query:\n",
    "    print(example)"
   ]
  },
  {
   "cell_type": "markdown",
   "id": "f7ce5690",
   "metadata": {},
   "source": [
    "### Запрос с использованием UNION "
   ]
  },
  {
   "cell_type": "code",
   "execution_count": 186,
   "id": "3a61d689",
   "metadata": {},
   "outputs": [
    {
     "name": "stdout",
     "output_type": "stream",
     "text": [
      "('Александр', 'Пушкин')\n",
      "('Антон', 'Чехов')\n",
      "('Дмитрий', 'Смирнов')\n",
      "('Елена', 'Петрова')\n",
      "('Иван', 'Бунин')\n",
      "('Иван', 'Иванов')\n",
      "('Лев', 'Толстой')\n",
      "('Мария', 'Кузнецова')\n",
      "('Николай', 'Гоголь')\n",
      "('Ольга', 'Королева')\n",
      "('Сергей', 'Сидоров')\n",
      "('Федор', 'Достоевский')\n"
     ]
    }
   ],
   "source": [
    "union_1 = \"\"\"\n",
    "SELECT first_name, last_name FROM Readers\n",
    "UNION\n",
    "SELECT first_name, last_name FROM Authors\n",
    "\"\"\"\n",
    "union_1_query = execute_read_query(connection, union_1)\n",
    "\n",
    "for example in union_1_query:\n",
    "    print(example)"
   ]
  },
  {
   "cell_type": "code",
   "execution_count": 187,
   "id": "abf60166",
   "metadata": {},
   "outputs": [
    {
     "name": "stdout",
     "output_type": "stream",
     "text": [
      "('Война и мир',)\n",
      "('Дмитрий',)\n",
      "('Евгений Онегин',)\n",
      "('Елена',)\n",
      "('Иван',)\n",
      "('Мария',)\n",
      "('Мертвые души',)\n",
      "('Ольга',)\n",
      "('Преступление и наказание',)\n",
      "('Сергей',)\n",
      "('Темные аллеи',)\n",
      "('Чайка',)\n"
     ]
    }
   ],
   "source": [
    "union_2 = \"\"\"\n",
    "SELECT title AS name FROM Books\n",
    "UNION\n",
    "SELECT first_name FROM Readers\n",
    "\"\"\"\n",
    "union_2_query = execute_read_query(connection, union_2)\n",
    "\n",
    "for example in union_2_query:\n",
    "    print(example)"
   ]
  },
  {
   "cell_type": "markdown",
   "id": "0ad74582",
   "metadata": {},
   "source": [
    "### Запрос с использованием DISTINCT"
   ]
  },
  {
   "cell_type": "code",
   "execution_count": 188,
   "id": "f960bcf7",
   "metadata": {},
   "outputs": [
    {
     "name": "stdout",
     "output_type": "stream",
     "text": [
      "(1869, 'Война и мир')\n",
      "(1866, 'Преступление и наказание')\n",
      "(1896, 'Чайка')\n",
      "(1833, 'Евгений Онегин')\n",
      "(1842, 'Мертвые души')\n",
      "(1866, 'Темные аллеи')\n"
     ]
    }
   ],
   "source": [
    "distinct = \"SELECT DISTINCT publication_year, title FROM Books\"\n",
    "\n",
    "distinct_query = execute_read_query(connection, distinct)\n",
    "\n",
    "for example in distinct_query:\n",
    "    print(example)"
   ]
  },
  {
   "cell_type": "markdown",
   "id": "8b137df7",
   "metadata": {},
   "source": [
    "## Обноваляем записи"
   ]
  },
  {
   "cell_type": "code",
   "execution_count": 189,
   "id": "f39bf56c",
   "metadata": {},
   "outputs": [
    {
     "name": "stdout",
     "output_type": "stream",
     "text": [
      "Query executed successfully\n"
     ]
    }
   ],
   "source": [
    "# Обновляем запись в таблице Books (название книги с ID 1)\n",
    "update_books_query = \"\"\"\n",
    "UPDATE Books\n",
    "SET title = 'Война и мир (измененное издание)'\n",
    "WHERE book_id = 1\n",
    "\"\"\"\n",
    "execute_query(connection, update_books_query)"
   ]
  },
  {
   "cell_type": "code",
   "execution_count": 190,
   "id": "baf64569",
   "metadata": {},
   "outputs": [
    {
     "name": "stdout",
     "output_type": "stream",
     "text": [
      "Query executed successfully\n"
     ]
    }
   ],
   "source": [
    "# Обновляем запись в таблице Readers (фамилия читателя с ID 2)\n",
    "update_readers_query = \"\"\"\n",
    "UPDATE Readers\n",
    "SET last_name = 'Иванова'\n",
    "WHERE reader_id = 2\n",
    "\"\"\"\n",
    "execute_query(connection, update_readers_query)"
   ]
  },
  {
   "cell_type": "markdown",
   "id": "8d2d831b",
   "metadata": {},
   "source": [
    "## Удаляем записи"
   ]
  },
  {
   "cell_type": "code",
   "execution_count": 191,
   "id": "6a2ca05d",
   "metadata": {},
   "outputs": [
    {
     "name": "stdout",
     "output_type": "stream",
     "text": [
      "Query executed successfully\n",
      "Query executed successfully\n",
      "Query executed successfully\n",
      "Query executed successfully\n"
     ]
    }
   ],
   "source": [
    "# Удаляем записи с ID 7 из каждой таблицы\n",
    "\n",
    "# Удаление из таблицы Authors\n",
    "delete_from_authors_query = \"DELETE FROM Authors WHERE author_id = 7\"\n",
    "execute_query(connection, delete_from_authors_query)\n",
    "\n",
    "# Удаление из таблицы Books\n",
    "delete_from_books_query = \"DELETE FROM Books WHERE book_id = 7\"\n",
    "execute_query(connection, delete_from_books_query)\n",
    "\n",
    "# Удаление из таблицы Readers\n",
    "delete_from_readers_query = \"DELETE FROM Readers WHERE reader_id = 7\"\n",
    "execute_query(connection, delete_from_readers_query)\n",
    "\n",
    "# Удаление из таблицы BookIssues\n",
    "delete_from_book_issues_query = \"DELETE FROM BookIssues WHERE issue_id = 7\"\n",
    "execute_query(connection, delete_from_book_issues_query)"
   ]
  },
  {
   "cell_type": "code",
   "execution_count": 192,
   "id": "aa5f1e46",
   "metadata": {},
   "outputs": [
    {
     "name": "stdout",
     "output_type": "stream",
     "text": [
      "Query executed successfully\n"
     ]
    }
   ],
   "source": [
    "# Удаляем все записи\n",
    "delete_all_from_book_issues_query = \"DELETE FROM BookIssues\"\n",
    "execute_query(connection, delete_all_from_book_issues_query)+"
   ]
  },
  {
   "cell_type": "markdown",
   "id": "d6e4afb8",
   "metadata": {},
   "source": [
    "# MySql"
   ]
  },
  {
   "cell_type": "code",
   "execution_count": 1,
   "id": "e55dc702",
   "metadata": {},
   "outputs": [
    {
     "name": "stdout",
     "output_type": "stream",
     "text": [
      "Connection to MySQL DB successful\n"
     ]
    }
   ],
   "source": [
    "import mysql.connector\n",
    "from mysql.connector import Error\n",
    "\n",
    "def create_connection(host_name, user_name, user_password):\n",
    "    connection = None\n",
    "    try:\n",
    "        connection = mysql.connector.connect(\n",
    "            host=host_name,\n",
    "            user=user_name,\n",
    "            passwd=user_password\n",
    "        )\n",
    "        print(\"Connection to MySQL DB successful\")\n",
    "    except Error as e:\n",
    "        print(f\"The error '{e}' occurred\")\n",
    "\n",
    "    return connection\n",
    "\n",
    "connection = create_connection(\"localhost\", \"root\", \"123456789\")"
   ]
  },
  {
   "cell_type": "code",
   "execution_count": 5,
   "id": "a24304c9",
   "metadata": {},
   "outputs": [
    {
     "name": "stdout",
     "output_type": "stream",
     "text": [
      "The error '1007 (HY000): Can't create database 'films'; database exists' occurred\n"
     ]
    }
   ],
   "source": [
    "def create_database(connection, query):\n",
    "    cursor = connection.cursor()\n",
    "    try:\n",
    "        cursor.execute(query)\n",
    "        print(\"Database created successfully\")\n",
    "    except Error as e:\n",
    "        print(f\"The error '{e}' occurred\")\n",
    "        \n",
    "create_database_query = \"CREATE DATABASE films\"\n",
    "create_database(connection, create_database_query)"
   ]
  },
  {
   "cell_type": "code",
   "execution_count": 6,
   "id": "5919c26d",
   "metadata": {},
   "outputs": [
    {
     "name": "stdout",
     "output_type": "stream",
     "text": [
      "Connection to MySQL DB successful\n"
     ]
    }
   ],
   "source": [
    "def create_connection(host_name, user_name, user_password, db_name):\n",
    "    connection = None\n",
    "    try:\n",
    "        connection = mysql.connector.connect(\n",
    "            host=host_name,\n",
    "            user=user_name,\n",
    "            passwd=user_password,\n",
    "            database=db_name\n",
    "        )\n",
    "        print(\"Connection to MySQL DB successful\")\n",
    "    except Error as e:\n",
    "        print(f\"The error '{e}' occurred\")\n",
    "\n",
    "    return connection\n",
    "\n",
    "connection = create_connection(\"localhost\", \"root\", \"123456789\", \"films\")"
   ]
  },
  {
   "cell_type": "markdown",
   "id": "7a770c19",
   "metadata": {},
   "source": [
    "## Создание таблиц"
   ]
  },
  {
   "cell_type": "code",
   "execution_count": 7,
   "id": "28b318b5",
   "metadata": {},
   "outputs": [],
   "source": [
    "def execute_query(connection, query):\n",
    "     cursor = connection.cursor()\n",
    "     try:\n",
    "         cursor.execute(query)\n",
    "         connection.commit()\n",
    "         print(\"Query executed successfully\")\n",
    "     except Error as e:\n",
    "         print(f\"The error '{e}' occurred\")"
   ]
  },
  {
   "cell_type": "code",
   "execution_count": 7,
   "id": "82541b8a",
   "metadata": {},
   "outputs": [
    {
     "name": "stdout",
     "output_type": "stream",
     "text": [
      "Query executed successfully\n",
      "Query executed successfully\n",
      "Query executed successfully\n",
      "Query executed successfully\n"
     ]
    }
   ],
   "source": [
    "create_directors_table = \"\"\"\n",
    "CREATE TABLE Directors (\n",
    "    director_id INT AUTO_INCREMENT PRIMARY KEY,\n",
    "    first_name TEXT,\n",
    "    last_name TEXT\n",
    ");\n",
    "\"\"\"\n",
    "execute_query(connection, create_directors_table)\n",
    "\n",
    "create_films_table = \"\"\"\n",
    "CREATE TABLE Films (\n",
    "    film_id INT AUTO_INCREMENT PRIMARY KEY,\n",
    "    title TEXT,\n",
    "    release_year YEAR,\n",
    "    director_id INT,\n",
    "    FOREIGN KEY (director_id) REFERENCES Directors(director_id)\n",
    ");\n",
    "\"\"\"\n",
    "execute_query(connection, create_films_table)\n",
    "\n",
    "create_actors_table = \"\"\"\n",
    "CREATE TABLE Actors (\n",
    "    actor_id INT AUTO_INCREMENT PRIMARY KEY,\n",
    "    first_name TEXT,\n",
    "    last_name TEXT\n",
    ");\n",
    "\"\"\"\n",
    "execute_query(connection, create_actors_table)\n",
    "\n",
    "create_filmActors_table = \"\"\"\n",
    "CREATE TABLE FilmActors (\n",
    "    film_actor_id INT AUTO_INCREMENT PRIMARY KEY,\n",
    "    film_id INT,\n",
    "    actor_id INT,\n",
    "    FOREIGN KEY (film_id) REFERENCES Films(film_id),\n",
    "    FOREIGN KEY (actor_id) REFERENCES Actors(actor_id)\n",
    ");\n",
    "\"\"\"\n",
    "execute_query(connection, create_filmActors_table)"
   ]
  },
  {
   "cell_type": "markdown",
   "id": "733855bb",
   "metadata": {},
   "source": [
    "## Вставка"
   ]
  },
  {
   "cell_type": "code",
   "execution_count": 8,
   "id": "4407ca4e",
   "metadata": {},
   "outputs": [
    {
     "name": "stdout",
     "output_type": "stream",
     "text": [
      "Query executed successfully\n"
     ]
    }
   ],
   "source": [
    "create_directors = \"\"\"\n",
    "INSERT INTO\n",
    "  `Directors` (`first_name`, `last_name`)\n",
    "VALUES\n",
    "  ('Кристофер', 'Нолан'),\n",
    "  ('Квентин', 'Тарантино'),\n",
    "  ('Мартин', 'Скорсезе'),\n",
    "  ('Стивен', 'Спилберг'),\n",
    "  ('Альфред', 'Хичкок');\n",
    "\"\"\"\n",
    "\n",
    "execute_query(connection, create_directors)\n"
   ]
  },
  {
   "cell_type": "code",
   "execution_count": 9,
   "id": "2bb1d10f",
   "metadata": {},
   "outputs": [
    {
     "name": "stdout",
     "output_type": "stream",
     "text": [
      "Query executed successfully\n"
     ]
    }
   ],
   "source": [
    "create_films = \"\"\"\n",
    "INSERT INTO\n",
    "  `Films` (`title`, `release_year`, `director_id`)\n",
    "VALUES\n",
    "  ('Начало', 2010, 1),\n",
    "  ('Криминальное чтиво', 1994, 2),\n",
    "  ('Отступники', 2006, 3),\n",
    "  ('Спасти рядового Райана', 1998, 4),\n",
    "  ('Психо', 1960, 5);\n",
    "\"\"\"\n",
    "\n",
    "execute_query(connection, create_films)\n"
   ]
  },
  {
   "cell_type": "code",
   "execution_count": 10,
   "id": "41f673d4",
   "metadata": {},
   "outputs": [
    {
     "name": "stdout",
     "output_type": "stream",
     "text": [
      "Query executed successfully\n"
     ]
    }
   ],
   "source": [
    "create_actors = \"\"\"\n",
    "INSERT INTO\n",
    "  `Actors` (`first_name`, `last_name`)\n",
    "VALUES\n",
    "  ('Леонардо', 'Ди Каприо'),\n",
    "  ('Брэд', 'Питт'),\n",
    "  ('Роберт', 'Де Ниро'),\n",
    "  ('Том', 'Хэнкс'),\n",
    "  ('Энтони', 'Хопкинс');\n",
    "\"\"\"\n",
    "\n",
    "execute_query(connection, create_actors)\n"
   ]
  },
  {
   "cell_type": "code",
   "execution_count": 13,
   "id": "e281662d",
   "metadata": {},
   "outputs": [
    {
     "name": "stdout",
     "output_type": "stream",
     "text": [
      "Query executed successfully\n"
     ]
    }
   ],
   "source": [
    "create_film_actors = \"\"\"\n",
    "INSERT INTO\n",
    "  `FilmActors` (`film_id`, `actor_id`)\n",
    "VALUES\n",
    "  (1, 1),  \n",
    "  (2, 2), \n",
    "  (3, 3), \n",
    "  (4, 4),  \n",
    "  (5, 5);  \n",
    "\"\"\"\n",
    "\n",
    "execute_query(connection, create_film_actors)"
   ]
  },
  {
   "cell_type": "markdown",
   "id": "2616ec42",
   "metadata": {},
   "source": [
    "## Запросы"
   ]
  },
  {
   "cell_type": "code",
   "execution_count": 8,
   "id": "a4e0cb9e",
   "metadata": {},
   "outputs": [],
   "source": [
    "def execute_read_query(connection, query):\n",
    "    cursor = connection.cursor()\n",
    "    result = None\n",
    "    try:\n",
    "        cursor.execute(query)\n",
    "        result = cursor.fetchall()\n",
    "        return result\n",
    "    except Error as e:\n",
    "        print(f\"The error '{e}' occurred\")"
   ]
  },
  {
   "cell_type": "markdown",
   "id": "a639d684",
   "metadata": {},
   "source": [
    "### Select all"
   ]
  },
  {
   "cell_type": "code",
   "execution_count": 9,
   "id": "ea777567",
   "metadata": {},
   "outputs": [
    {
     "name": "stdout",
     "output_type": "stream",
     "text": [
      "(2, 'Квентин', 'Тарантино')\n",
      "(3, 'Мартин', 'Скорсезе')\n",
      "(4, 'Стивен', 'Спилберг')\n",
      "(5, 'Альфред', 'Хичкок')\n"
     ]
    }
   ],
   "source": [
    "select_all_directors = \"SELECT * FROM Directors\"\n",
    "directors = execute_read_query(connection, select_all_directors)\n",
    "for director in directors:\n",
    "    print(director)"
   ]
  },
  {
   "cell_type": "code",
   "execution_count": 10,
   "id": "cc63b95f",
   "metadata": {},
   "outputs": [
    {
     "name": "stdout",
     "output_type": "stream",
     "text": [
      "(2, 'Криминальное чтиво', 1995, 2)\n",
      "(3, 'Отступники', 2006, 3)\n",
      "(4, 'Спасти рядового Райана', 1998, 4)\n",
      "(5, 'Психо', 1960, 5)\n"
     ]
    }
   ],
   "source": [
    "select_all_films = \"SELECT * FROM Films\"\n",
    "films = execute_read_query(connection, select_all_films)\n",
    "for film in films:\n",
    "    print(film)"
   ]
  },
  {
   "cell_type": "code",
   "execution_count": 11,
   "id": "a2fbe3b2",
   "metadata": {},
   "outputs": [
    {
     "name": "stdout",
     "output_type": "stream",
     "text": [
      "(2, 'Брэд', 'Питт')\n",
      "(3, 'Роберт', 'Де Ниро')\n",
      "(4, 'Том', 'Хэнкс')\n",
      "(5, 'Энтони', 'Хопкинс')\n"
     ]
    }
   ],
   "source": [
    "select_all_actors = \"SELECT * FROM Actors\"\n",
    "actors = execute_read_query(connection, select_all_actors)\n",
    "for actor in actors:\n",
    "    print(actor)"
   ]
  },
  {
   "cell_type": "code",
   "execution_count": 28,
   "id": "d38bbd6e",
   "metadata": {},
   "outputs": [
    {
     "name": "stdout",
     "output_type": "stream",
     "text": [
      "(1, 1, 1)\n",
      "(2, 2, 2)\n",
      "(3, 3, 3)\n",
      "(4, 4, 4)\n",
      "(5, 5, 5)\n",
      "(6, 1, 1)\n",
      "(7, 2, 2)\n",
      "(8, 3, 3)\n",
      "(9, 4, 4)\n",
      "(10, 5, 5)\n",
      "(11, 1, 1)\n",
      "(12, 2, 2)\n",
      "(13, 3, 3)\n",
      "(14, 4, 4)\n",
      "(15, 5, 5)\n"
     ]
    }
   ],
   "source": [
    "select_all_film_actors = \"SELECT * FROM FilmActors\"\n",
    "film_actors = execute_read_query(connection, select_all_film_actors)\n",
    "for film_actor in film_actors:\n",
    "    print(film_actor)"
   ]
  },
  {
   "cell_type": "markdown",
   "id": "8f39fb37",
   "metadata": {},
   "source": [
    "### Join"
   ]
  },
  {
   "cell_type": "code",
   "execution_count": 29,
   "id": "0eda535c",
   "metadata": {},
   "outputs": [
    {
     "name": "stdout",
     "output_type": "stream",
     "text": [
      "('Начало', 'Кристофер', 'Нолан')\n",
      "('Криминальное чтиво', 'Квентин', 'Тарантино')\n",
      "('Отступники', 'Мартин', 'Скорсезе')\n",
      "('Спасти рядового Райана', 'Стивен', 'Спилберг')\n",
      "('Психо', 'Альфред', 'Хичкок')\n"
     ]
    }
   ],
   "source": [
    "join_query = \"\"\"\n",
    "SELECT Films.title, Directors.first_name, Directors.last_name\n",
    "FROM Films\n",
    "JOIN Directors ON Films.director_id = Directors.director_id\n",
    "\"\"\"\n",
    "join_results = execute_read_query(connection, join_query)\n",
    "for result in join_results:\n",
    "    print(result)\n"
   ]
  },
  {
   "cell_type": "markdown",
   "id": "fdbb9a57",
   "metadata": {},
   "source": [
    "### Where and Group By"
   ]
  },
  {
   "cell_type": "code",
   "execution_count": 30,
   "id": "99cbd99d",
   "metadata": {},
   "outputs": [
    {
     "name": "stdout",
     "output_type": "stream",
     "text": [
      "('Ди Каприо', 3)\n"
     ]
    }
   ],
   "source": [
    "group_by_query = \"\"\"\n",
    "SELECT Actors.last_name, COUNT(FilmActors.actor_id) as number_of_films\n",
    "FROM FilmActors\n",
    "JOIN Actors ON FilmActors.actor_id = Actors.actor_id\n",
    "WHERE Actors.first_name = 'Леонардо'\n",
    "GROUP BY FilmActors.actor_id\n",
    "\"\"\"\n",
    "group_by_results = execute_read_query(connection, group_by_query)\n",
    "for result in group_by_results:\n",
    "    print(result)\n"
   ]
  },
  {
   "cell_type": "markdown",
   "id": "1a85357b",
   "metadata": {},
   "source": [
    "### Select"
   ]
  },
  {
   "cell_type": "code",
   "execution_count": 31,
   "id": "d1d8ed2e",
   "metadata": {},
   "outputs": [
    {
     "name": "stdout",
     "output_type": "stream",
     "text": [
      "(1, 'Начало', 2010, 1)\n",
      "(1, 'Леонардо', 'Ди Каприо')\n"
     ]
    }
   ],
   "source": [
    "nested_select_1 = \"\"\"\n",
    "SELECT * FROM Films\n",
    "WHERE director_id IN (SELECT director_id FROM Directors WHERE last_name = 'Нолан')\n",
    "\"\"\"\n",
    "nested_select_results_1 = execute_read_query(connection, nested_select_1)\n",
    "for result in nested_select_results_1:\n",
    "    print(result)\n",
    "\n",
    "nested_select_2 = \"\"\"\n",
    "SELECT * FROM Actors\n",
    "WHERE actor_id IN (SELECT actor_id FROM FilmActors WHERE film_id = 1)\n",
    "\"\"\"\n",
    "nested_select_results_2 = execute_read_query(connection, nested_select_2)\n",
    "for result in nested_select_results_2:\n",
    "    print(result)\n"
   ]
  },
  {
   "cell_type": "markdown",
   "id": "80acc085",
   "metadata": {},
   "source": [
    "### Union"
   ]
  },
  {
   "cell_type": "code",
   "execution_count": 32,
   "id": "e801f310",
   "metadata": {},
   "outputs": [
    {
     "name": "stdout",
     "output_type": "stream",
     "text": [
      "('Кристофер',)\n",
      "('Квентин',)\n",
      "('Мартин',)\n",
      "('Стивен',)\n",
      "('Альфред',)\n",
      "('Леонардо',)\n",
      "('Брэд',)\n",
      "('Роберт',)\n",
      "('Том',)\n",
      "('Энтони',)\n"
     ]
    }
   ],
   "source": [
    "union_query = \"\"\"\n",
    "SELECT first_name FROM Directors\n",
    "UNION\n",
    "SELECT first_name FROM Actors\n",
    "\"\"\"\n",
    "union_results = execute_read_query(connection, union_query)\n",
    "for result in union_results:\n",
    "    print(result)\n"
   ]
  },
  {
   "cell_type": "markdown",
   "id": "0a6d5f98",
   "metadata": {},
   "source": [
    "### Distinct"
   ]
  },
  {
   "cell_type": "code",
   "execution_count": 33,
   "id": "8086f045",
   "metadata": {},
   "outputs": [
    {
     "name": "stdout",
     "output_type": "stream",
     "text": [
      "(2010,)\n",
      "(1994,)\n",
      "(2006,)\n",
      "(1998,)\n",
      "(1960,)\n"
     ]
    }
   ],
   "source": [
    "distinct_query = \"SELECT DISTINCT release_year FROM Films\"\n",
    "distinct_results = execute_read_query(connection, distinct_query)\n",
    "for result in distinct_results:\n",
    "    print(result)\n"
   ]
  },
  {
   "cell_type": "markdown",
   "id": "5531fb90",
   "metadata": {},
   "source": [
    "## Обновление"
   ]
  },
  {
   "cell_type": "code",
   "execution_count": 43,
   "id": "5e646054",
   "metadata": {},
   "outputs": [
    {
     "name": "stdout",
     "output_type": "stream",
     "text": [
      "Query executed successfully\n",
      "Query executed successfully\n",
      "Query executed successfully\n"
     ]
    }
   ],
   "source": [
    "update_director = \"\"\"\n",
    "UPDATE Directors\n",
    "SET last_name = 'Nolan'\n",
    "WHERE director_id = 1;\n",
    "\"\"\"\n",
    "\n",
    "execute_query(connection, delete_from_directors)"
   ]
  },
  {
   "cell_type": "code",
   "execution_count": 44,
   "id": "72a92d6e",
   "metadata": {},
   "outputs": [
    {
     "name": "stdout",
     "output_type": "stream",
     "text": [
      "Query executed successfully\n"
     ]
    }
   ],
   "source": [
    "update_film = \"\"\"\n",
    "UPDATE Films\n",
    "SET release_year = 1995\n",
    "WHERE film_id = 2;\n",
    "\"\"\"\n",
    "execute_query(connection, update_film)"
   ]
  },
  {
   "cell_type": "markdown",
   "id": "0376681c",
   "metadata": {},
   "source": [
    "## Удаление"
   ]
  },
  {
   "cell_type": "code",
   "execution_count": 45,
   "id": "a5fca3a2",
   "metadata": {},
   "outputs": [],
   "source": [
    "disable_fk_checks = \"SET FOREIGN_KEY_CHECKS = 0;\"\n",
    "enable_fk_checks = \"SET FOREIGN_KEY_CHECKS = 1;\""
   ]
  },
  {
   "cell_type": "code",
   "execution_count": 46,
   "id": "86e1a523",
   "metadata": {},
   "outputs": [
    {
     "name": "stdout",
     "output_type": "stream",
     "text": [
      "Query executed successfully\n",
      "Query executed successfully\n",
      "Query executed successfully\n"
     ]
    }
   ],
   "source": [
    "delete_from_directors = \"\"\"\n",
    "DELETE FROM Directors\n",
    "WHERE director_id = 1;\n",
    "\"\"\"\n",
    "execute_query(connection, disable_fk_checks)\n",
    "execute_query(connection, delete_from_directors)\n",
    "execute_query(connection, enable_fk_checks)"
   ]
  },
  {
   "cell_type": "code",
   "execution_count": 48,
   "id": "aacea79b",
   "metadata": {},
   "outputs": [
    {
     "name": "stdout",
     "output_type": "stream",
     "text": [
      "Query executed successfully\n",
      "Query executed successfully\n",
      "Query executed successfully\n"
     ]
    }
   ],
   "source": [
    "delete_from_films = \"\"\"\n",
    "DELETE FROM Films\n",
    "WHERE film_id = 1;\n",
    "\"\"\"\n",
    "execute_query(connection, disable_fk_checks)\n",
    "execute_query(connection, delete_from_films)\n",
    "execute_query(connection, enable_fk_checks)"
   ]
  },
  {
   "cell_type": "code",
   "execution_count": 49,
   "id": "c885ac3a",
   "metadata": {},
   "outputs": [
    {
     "name": "stdout",
     "output_type": "stream",
     "text": [
      "Query executed successfully\n",
      "Query executed successfully\n",
      "Query executed successfully\n"
     ]
    }
   ],
   "source": [
    "delete_from_actors = \"\"\"\n",
    "DELETE FROM Actors\n",
    "WHERE actor_id = 1;\n",
    "\"\"\"\n",
    "execute_query(connection, disable_fk_checks)\n",
    "execute_query(connection, delete_from_actors)\n",
    "execute_query(connection, enable_fk_checks)"
   ]
  },
  {
   "cell_type": "code",
   "execution_count": 50,
   "id": "ace94d7b",
   "metadata": {},
   "outputs": [
    {
     "name": "stdout",
     "output_type": "stream",
     "text": [
      "Query executed successfully\n",
      "Query executed successfully\n",
      "Query executed successfully\n"
     ]
    }
   ],
   "source": [
    "delete_from_film_actors = \"\"\"\n",
    "DELETE FROM FilmActors\n",
    "WHERE film_actor_id = 1;\n",
    "\"\"\"\n",
    "execute_query(connection, disable_fk_checks)\n",
    "execute_query(connection, delete_from_film_actors)\n",
    "execute_query(connection, enable_fk_checks)"
   ]
  },
  {
   "cell_type": "markdown",
   "id": "391ba995",
   "metadata": {},
   "source": [
    "## Удаление всего"
   ]
  },
  {
   "cell_type": "code",
   "execution_count": 51,
   "id": "984f4dbc",
   "metadata": {},
   "outputs": [
    {
     "name": "stdout",
     "output_type": "stream",
     "text": [
      "Query executed successfully\n"
     ]
    }
   ],
   "source": [
    "delete_all_film_actors = \"DELETE FROM FilmActors;\"\n",
    "\n",
    "execute_query(connection, delete_all_film_actors)\n"
   ]
  }
 ],
 "metadata": {
  "kernelspec": {
   "display_name": "Python 3 (ipykernel)",
   "language": "python",
   "name": "python3"
  },
  "language_info": {
   "codemirror_mode": {
    "name": "ipython",
    "version": 3
   },
   "file_extension": ".py",
   "mimetype": "text/x-python",
   "name": "python",
   "nbconvert_exporter": "python",
   "pygments_lexer": "ipython3",
   "version": "3.9.13"
  }
 },
 "nbformat": 4,
 "nbformat_minor": 5
}
